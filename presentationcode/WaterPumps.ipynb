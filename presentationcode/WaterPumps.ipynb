{
 "cells": [
  {
   "cell_type": "code",
   "execution_count": 39,
   "metadata": {
    "collapsed": true
   },
   "outputs": [],
   "source": [
    "import pandas as pd\n",
    "import matplotlib.pyplot as plt"
   ]
  },
  {
   "cell_type": "code",
   "execution_count": 6,
   "metadata": {
    "collapsed": true
   },
   "outputs": [],
   "source": [
    "plt.rcParams['figure.figsize'] = (8,6)\n",
    "plt.rcParams['font.size'] =14"
   ]
  },
  {
   "cell_type": "code",
   "execution_count": 7,
   "metadata": {
    "collapsed": false
   },
   "outputs": [
    {
     "data": {
      "text/plain": [
       "Index([u'amount_tsh', u'date_recorded', u'funder', u'gps_height', u'installer',\n",
       "       u'longitude', u'latitude', u'wpt_name', u'num_private', u'basin',\n",
       "       u'subvillage', u'region', u'region_code', u'district_code', u'lga',\n",
       "       u'ward', u'population', u'public_meeting', u'recorded_by',\n",
       "       u'scheme_management', u'scheme_name', u'permit', u'construction_year',\n",
       "       u'extraction_type', u'extraction_type_group', u'extraction_type_class',\n",
       "       u'management', u'management_group', u'payment', u'payment_type',\n",
       "       u'water_quality', u'quality_group', u'quantity', u'quantity_group',\n",
       "       u'source', u'source_type', u'source_class', u'waterpoint_type',\n",
       "       u'waterpoint_type_group'],\n",
       "      dtype='object')"
      ]
     },
     "execution_count": 7,
     "metadata": {},
     "output_type": "execute_result"
    }
   ],
   "source": [
    "waterdep = pd.read_csv('waterdependent.csv', header = 0,index_col = 0)\n",
    "type(waterdep)\n",
    "waterdep.columns"
   ]
  },
  {
   "cell_type": "code",
   "execution_count": 9,
   "metadata": {
    "collapsed": false
   },
   "outputs": [
    {
     "data": {
      "text/plain": [
       "(59400, 39)"
      ]
     },
     "execution_count": 9,
     "metadata": {},
     "output_type": "execute_result"
    }
   ],
   "source": [
    "waterdep.head(10)\n",
    "waterdep.shape"
   ]
  },
  {
   "cell_type": "code",
   "execution_count": 11,
   "metadata": {
    "collapsed": true
   },
   "outputs": [],
   "source": [
    "waterindep = pd.read_csv('waterindependent.csv', header = 0,index_col = 0)"
   ]
  },
  {
   "cell_type": "code",
   "execution_count": 12,
   "metadata": {
    "collapsed": false
   },
   "outputs": [
    {
     "data": {
      "text/plain": [
       "functional                 32259\n",
       "non functional             22824\n",
       "functional needs repair     4317\n",
       "dtype: int64"
      ]
     },
     "execution_count": 12,
     "metadata": {},
     "output_type": "execute_result"
    }
   ],
   "source": [
    "waterindep.head(10)\n",
    "waterindep.shape\n",
    "waterindep.head(10)\n",
    "waterindep.status_group.value_counts()"
   ]
  },
  {
   "cell_type": "code",
   "execution_count": 13,
   "metadata": {
    "collapsed": false
   },
   "outputs": [
    {
     "data": {
      "text/plain": [
       "Index([u'status_group'], dtype='object')"
      ]
     },
     "execution_count": 13,
     "metadata": {},
     "output_type": "execute_result"
    }
   ],
   "source": [
    "waterindep.shape\n",
    "waterindep.columns"
   ]
  },
  {
   "cell_type": "code",
   "execution_count": 14,
   "metadata": {
    "collapsed": false
   },
   "outputs": [],
   "source": [
    "waterjoined = waterdep.join(waterindep, how = 'left', sort =False)"
   ]
  },
  {
   "cell_type": "code",
   "execution_count": 15,
   "metadata": {
    "collapsed": false
   },
   "outputs": [
    {
     "data": {
      "text/html": [
       "<div>\n",
       "<table border=\"1\" class=\"dataframe\">\n",
       "  <thead>\n",
       "    <tr style=\"text-align: right;\">\n",
       "      <th></th>\n",
       "      <th>amount_tsh</th>\n",
       "      <th>date_recorded</th>\n",
       "      <th>funder</th>\n",
       "      <th>gps_height</th>\n",
       "      <th>installer</th>\n",
       "      <th>longitude</th>\n",
       "      <th>latitude</th>\n",
       "      <th>wpt_name</th>\n",
       "      <th>num_private</th>\n",
       "      <th>basin</th>\n",
       "      <th>...</th>\n",
       "      <th>water_quality</th>\n",
       "      <th>quality_group</th>\n",
       "      <th>quantity</th>\n",
       "      <th>quantity_group</th>\n",
       "      <th>source</th>\n",
       "      <th>source_type</th>\n",
       "      <th>source_class</th>\n",
       "      <th>waterpoint_type</th>\n",
       "      <th>waterpoint_type_group</th>\n",
       "      <th>status_group</th>\n",
       "    </tr>\n",
       "    <tr>\n",
       "      <th>id</th>\n",
       "      <th></th>\n",
       "      <th></th>\n",
       "      <th></th>\n",
       "      <th></th>\n",
       "      <th></th>\n",
       "      <th></th>\n",
       "      <th></th>\n",
       "      <th></th>\n",
       "      <th></th>\n",
       "      <th></th>\n",
       "      <th></th>\n",
       "      <th></th>\n",
       "      <th></th>\n",
       "      <th></th>\n",
       "      <th></th>\n",
       "      <th></th>\n",
       "      <th></th>\n",
       "      <th></th>\n",
       "      <th></th>\n",
       "      <th></th>\n",
       "      <th></th>\n",
       "    </tr>\n",
       "  </thead>\n",
       "  <tbody>\n",
       "    <tr>\n",
       "      <th>69572</th>\n",
       "      <td>6000</td>\n",
       "      <td>3/14/11</td>\n",
       "      <td>Roman</td>\n",
       "      <td>1390</td>\n",
       "      <td>Roman</td>\n",
       "      <td>34.938093</td>\n",
       "      <td>-9.856322</td>\n",
       "      <td>none</td>\n",
       "      <td>0</td>\n",
       "      <td>Lake Nyasa</td>\n",
       "      <td>...</td>\n",
       "      <td>soft</td>\n",
       "      <td>good</td>\n",
       "      <td>enough</td>\n",
       "      <td>enough</td>\n",
       "      <td>spring</td>\n",
       "      <td>spring</td>\n",
       "      <td>groundwater</td>\n",
       "      <td>communal standpipe</td>\n",
       "      <td>communal standpipe</td>\n",
       "      <td>functional</td>\n",
       "    </tr>\n",
       "    <tr>\n",
       "      <th>8776</th>\n",
       "      <td>0</td>\n",
       "      <td>3/6/13</td>\n",
       "      <td>Grumeti</td>\n",
       "      <td>1399</td>\n",
       "      <td>GRUMETI</td>\n",
       "      <td>34.698766</td>\n",
       "      <td>-2.147466</td>\n",
       "      <td>Zahanati</td>\n",
       "      <td>0</td>\n",
       "      <td>Lake Victoria</td>\n",
       "      <td>...</td>\n",
       "      <td>soft</td>\n",
       "      <td>good</td>\n",
       "      <td>insufficient</td>\n",
       "      <td>insufficient</td>\n",
       "      <td>rainwater harvesting</td>\n",
       "      <td>rainwater harvesting</td>\n",
       "      <td>surface</td>\n",
       "      <td>communal standpipe</td>\n",
       "      <td>communal standpipe</td>\n",
       "      <td>functional</td>\n",
       "    </tr>\n",
       "    <tr>\n",
       "      <th>34310</th>\n",
       "      <td>25</td>\n",
       "      <td>2/25/13</td>\n",
       "      <td>Lottery Club</td>\n",
       "      <td>686</td>\n",
       "      <td>World vision</td>\n",
       "      <td>37.460664</td>\n",
       "      <td>-3.821329</td>\n",
       "      <td>Kwa Mahundi</td>\n",
       "      <td>0</td>\n",
       "      <td>Pangani</td>\n",
       "      <td>...</td>\n",
       "      <td>soft</td>\n",
       "      <td>good</td>\n",
       "      <td>enough</td>\n",
       "      <td>enough</td>\n",
       "      <td>dam</td>\n",
       "      <td>dam</td>\n",
       "      <td>surface</td>\n",
       "      <td>communal standpipe multiple</td>\n",
       "      <td>communal standpipe</td>\n",
       "      <td>functional</td>\n",
       "    </tr>\n",
       "    <tr>\n",
       "      <th>67743</th>\n",
       "      <td>0</td>\n",
       "      <td>1/28/13</td>\n",
       "      <td>Unicef</td>\n",
       "      <td>263</td>\n",
       "      <td>UNICEF</td>\n",
       "      <td>38.486161</td>\n",
       "      <td>-11.155298</td>\n",
       "      <td>Zahanati Ya Nanyumbu</td>\n",
       "      <td>0</td>\n",
       "      <td>Ruvuma / Southern Coast</td>\n",
       "      <td>...</td>\n",
       "      <td>soft</td>\n",
       "      <td>good</td>\n",
       "      <td>dry</td>\n",
       "      <td>dry</td>\n",
       "      <td>machine dbh</td>\n",
       "      <td>borehole</td>\n",
       "      <td>groundwater</td>\n",
       "      <td>communal standpipe multiple</td>\n",
       "      <td>communal standpipe</td>\n",
       "      <td>non functional</td>\n",
       "    </tr>\n",
       "    <tr>\n",
       "      <th>19728</th>\n",
       "      <td>0</td>\n",
       "      <td>7/13/11</td>\n",
       "      <td>Action In A</td>\n",
       "      <td>0</td>\n",
       "      <td>Artisan</td>\n",
       "      <td>31.130847</td>\n",
       "      <td>-1.825359</td>\n",
       "      <td>Shuleni</td>\n",
       "      <td>0</td>\n",
       "      <td>Lake Victoria</td>\n",
       "      <td>...</td>\n",
       "      <td>soft</td>\n",
       "      <td>good</td>\n",
       "      <td>seasonal</td>\n",
       "      <td>seasonal</td>\n",
       "      <td>rainwater harvesting</td>\n",
       "      <td>rainwater harvesting</td>\n",
       "      <td>surface</td>\n",
       "      <td>communal standpipe</td>\n",
       "      <td>communal standpipe</td>\n",
       "      <td>functional</td>\n",
       "    </tr>\n",
       "    <tr>\n",
       "      <th>9944</th>\n",
       "      <td>20</td>\n",
       "      <td>3/13/11</td>\n",
       "      <td>Mkinga Distric Coun</td>\n",
       "      <td>0</td>\n",
       "      <td>DWE</td>\n",
       "      <td>39.172796</td>\n",
       "      <td>-4.765587</td>\n",
       "      <td>Tajiri</td>\n",
       "      <td>0</td>\n",
       "      <td>Pangani</td>\n",
       "      <td>...</td>\n",
       "      <td>salty</td>\n",
       "      <td>salty</td>\n",
       "      <td>enough</td>\n",
       "      <td>enough</td>\n",
       "      <td>other</td>\n",
       "      <td>other</td>\n",
       "      <td>unknown</td>\n",
       "      <td>communal standpipe multiple</td>\n",
       "      <td>communal standpipe</td>\n",
       "      <td>functional</td>\n",
       "    </tr>\n",
       "    <tr>\n",
       "      <th>19816</th>\n",
       "      <td>0</td>\n",
       "      <td>10/1/12</td>\n",
       "      <td>Dwsp</td>\n",
       "      <td>0</td>\n",
       "      <td>DWSP</td>\n",
       "      <td>33.362410</td>\n",
       "      <td>-3.766365</td>\n",
       "      <td>Kwa Ngomho</td>\n",
       "      <td>0</td>\n",
       "      <td>Internal</td>\n",
       "      <td>...</td>\n",
       "      <td>soft</td>\n",
       "      <td>good</td>\n",
       "      <td>enough</td>\n",
       "      <td>enough</td>\n",
       "      <td>machine dbh</td>\n",
       "      <td>borehole</td>\n",
       "      <td>groundwater</td>\n",
       "      <td>hand pump</td>\n",
       "      <td>hand pump</td>\n",
       "      <td>non functional</td>\n",
       "    </tr>\n",
       "    <tr>\n",
       "      <th>54551</th>\n",
       "      <td>0</td>\n",
       "      <td>10/9/12</td>\n",
       "      <td>Rwssp</td>\n",
       "      <td>0</td>\n",
       "      <td>DWE</td>\n",
       "      <td>32.620617</td>\n",
       "      <td>-4.226198</td>\n",
       "      <td>Tushirikiane</td>\n",
       "      <td>0</td>\n",
       "      <td>Lake Tanganyika</td>\n",
       "      <td>...</td>\n",
       "      <td>milky</td>\n",
       "      <td>milky</td>\n",
       "      <td>enough</td>\n",
       "      <td>enough</td>\n",
       "      <td>shallow well</td>\n",
       "      <td>shallow well</td>\n",
       "      <td>groundwater</td>\n",
       "      <td>hand pump</td>\n",
       "      <td>hand pump</td>\n",
       "      <td>non functional</td>\n",
       "    </tr>\n",
       "    <tr>\n",
       "      <th>53934</th>\n",
       "      <td>0</td>\n",
       "      <td>11/3/12</td>\n",
       "      <td>Wateraid</td>\n",
       "      <td>0</td>\n",
       "      <td>Water Aid</td>\n",
       "      <td>32.711100</td>\n",
       "      <td>-5.146712</td>\n",
       "      <td>Kwa Ramadhan Musa</td>\n",
       "      <td>0</td>\n",
       "      <td>Lake Tanganyika</td>\n",
       "      <td>...</td>\n",
       "      <td>salty</td>\n",
       "      <td>salty</td>\n",
       "      <td>seasonal</td>\n",
       "      <td>seasonal</td>\n",
       "      <td>machine dbh</td>\n",
       "      <td>borehole</td>\n",
       "      <td>groundwater</td>\n",
       "      <td>hand pump</td>\n",
       "      <td>hand pump</td>\n",
       "      <td>non functional</td>\n",
       "    </tr>\n",
       "    <tr>\n",
       "      <th>46144</th>\n",
       "      <td>0</td>\n",
       "      <td>8/3/11</td>\n",
       "      <td>Isingiro Ho</td>\n",
       "      <td>0</td>\n",
       "      <td>Artisan</td>\n",
       "      <td>30.626991</td>\n",
       "      <td>-1.257051</td>\n",
       "      <td>Kwapeto</td>\n",
       "      <td>0</td>\n",
       "      <td>Lake Victoria</td>\n",
       "      <td>...</td>\n",
       "      <td>soft</td>\n",
       "      <td>good</td>\n",
       "      <td>enough</td>\n",
       "      <td>enough</td>\n",
       "      <td>shallow well</td>\n",
       "      <td>shallow well</td>\n",
       "      <td>groundwater</td>\n",
       "      <td>hand pump</td>\n",
       "      <td>hand pump</td>\n",
       "      <td>functional</td>\n",
       "    </tr>\n",
       "  </tbody>\n",
       "</table>\n",
       "<p>10 rows × 40 columns</p>\n",
       "</div>"
      ],
      "text/plain": [
       "       amount_tsh date_recorded               funder  gps_height  \\\n",
       "id                                                                 \n",
       "69572        6000       3/14/11                Roman        1390   \n",
       "8776            0        3/6/13              Grumeti        1399   \n",
       "34310          25       2/25/13         Lottery Club         686   \n",
       "67743           0       1/28/13               Unicef         263   \n",
       "19728           0       7/13/11          Action In A           0   \n",
       "9944           20       3/13/11  Mkinga Distric Coun           0   \n",
       "19816           0       10/1/12                 Dwsp           0   \n",
       "54551           0       10/9/12                Rwssp           0   \n",
       "53934           0       11/3/12             Wateraid           0   \n",
       "46144           0        8/3/11          Isingiro Ho           0   \n",
       "\n",
       "          installer  longitude   latitude              wpt_name  num_private  \\\n",
       "id                                                                             \n",
       "69572         Roman  34.938093  -9.856322                  none            0   \n",
       "8776        GRUMETI  34.698766  -2.147466              Zahanati            0   \n",
       "34310  World vision  37.460664  -3.821329           Kwa Mahundi            0   \n",
       "67743        UNICEF  38.486161 -11.155298  Zahanati Ya Nanyumbu            0   \n",
       "19728       Artisan  31.130847  -1.825359               Shuleni            0   \n",
       "9944            DWE  39.172796  -4.765587                Tajiri            0   \n",
       "19816          DWSP  33.362410  -3.766365            Kwa Ngomho            0   \n",
       "54551           DWE  32.620617  -4.226198          Tushirikiane            0   \n",
       "53934     Water Aid  32.711100  -5.146712     Kwa Ramadhan Musa            0   \n",
       "46144       Artisan  30.626991  -1.257051               Kwapeto            0   \n",
       "\n",
       "                         basin       ...       water_quality quality_group  \\\n",
       "id                                   ...                                     \n",
       "69572               Lake Nyasa       ...                soft          good   \n",
       "8776             Lake Victoria       ...                soft          good   \n",
       "34310                  Pangani       ...                soft          good   \n",
       "67743  Ruvuma / Southern Coast       ...                soft          good   \n",
       "19728            Lake Victoria       ...                soft          good   \n",
       "9944                   Pangani       ...               salty         salty   \n",
       "19816                 Internal       ...                soft          good   \n",
       "54551          Lake Tanganyika       ...               milky         milky   \n",
       "53934          Lake Tanganyika       ...               salty         salty   \n",
       "46144            Lake Victoria       ...                soft          good   \n",
       "\n",
       "           quantity  quantity_group                source  \\\n",
       "id                                                          \n",
       "69572        enough          enough                spring   \n",
       "8776   insufficient    insufficient  rainwater harvesting   \n",
       "34310        enough          enough                   dam   \n",
       "67743           dry             dry           machine dbh   \n",
       "19728      seasonal        seasonal  rainwater harvesting   \n",
       "9944         enough          enough                 other   \n",
       "19816        enough          enough           machine dbh   \n",
       "54551        enough          enough          shallow well   \n",
       "53934      seasonal        seasonal           machine dbh   \n",
       "46144        enough          enough          shallow well   \n",
       "\n",
       "                source_type  source_class              waterpoint_type  \\\n",
       "id                                                                       \n",
       "69572                spring   groundwater           communal standpipe   \n",
       "8776   rainwater harvesting       surface           communal standpipe   \n",
       "34310                   dam       surface  communal standpipe multiple   \n",
       "67743              borehole   groundwater  communal standpipe multiple   \n",
       "19728  rainwater harvesting       surface           communal standpipe   \n",
       "9944                  other       unknown  communal standpipe multiple   \n",
       "19816              borehole   groundwater                    hand pump   \n",
       "54551          shallow well   groundwater                    hand pump   \n",
       "53934              borehole   groundwater                    hand pump   \n",
       "46144          shallow well   groundwater                    hand pump   \n",
       "\n",
       "      waterpoint_type_group    status_group  \n",
       "id                                           \n",
       "69572    communal standpipe      functional  \n",
       "8776     communal standpipe      functional  \n",
       "34310    communal standpipe      functional  \n",
       "67743    communal standpipe  non functional  \n",
       "19728    communal standpipe      functional  \n",
       "9944     communal standpipe      functional  \n",
       "19816             hand pump  non functional  \n",
       "54551             hand pump  non functional  \n",
       "53934             hand pump  non functional  \n",
       "46144             hand pump      functional  \n",
       "\n",
       "[10 rows x 40 columns]"
      ]
     },
     "execution_count": 15,
     "metadata": {},
     "output_type": "execute_result"
    }
   ],
   "source": [
    "waterjoined.head(10)"
   ]
  },
  {
   "cell_type": "code",
   "execution_count": 16,
   "metadata": {
    "collapsed": false
   },
   "outputs": [
    {
     "data": {
      "text/plain": [
       "amount_tsh               0\n",
       "date_recorded            0\n",
       "funder                   0\n",
       "gps_height               0\n",
       "installer                0\n",
       "longitude                0\n",
       "latitude                 0\n",
       "wpt_name                 0\n",
       "num_private              0\n",
       "basin                    0\n",
       "subvillage               0\n",
       "region                   0\n",
       "region_code              0\n",
       "district_code            0\n",
       "lga                      0\n",
       "ward                     0\n",
       "population               0\n",
       "public_meeting           0\n",
       "recorded_by              0\n",
       "scheme_management        0\n",
       "scheme_name              0\n",
       "permit                   0\n",
       "construction_year        0\n",
       "extraction_type          0\n",
       "extraction_type_group    0\n",
       "extraction_type_class    0\n",
       "management               0\n",
       "management_group         0\n",
       "payment                  0\n",
       "payment_type             0\n",
       "water_quality            0\n",
       "quality_group            0\n",
       "quantity                 0\n",
       "quantity_group           0\n",
       "source                   0\n",
       "source_type              0\n",
       "source_class             0\n",
       "waterpoint_type          0\n",
       "waterpoint_type_group    0\n",
       "status_group             0\n",
       "dtype: int64"
      ]
     },
     "execution_count": 16,
     "metadata": {},
     "output_type": "execute_result"
    }
   ],
   "source": [
    "waterjoined.isnull().sum()\n",
    "waterjoined.fillna(value='NA', inplace = True)\n",
    "waterjoined.isnull().sum()"
   ]
  },
  {
   "cell_type": "code",
   "execution_count": 17,
   "metadata": {
    "collapsed": false
   },
   "outputs": [
    {
     "data": {
      "text/plain": [
       "Government Of Tanzania            9084\n",
       "NA                                3635\n",
       "Danida                            3114\n",
       "Hesawa                            2202\n",
       "Rwssp                             1374\n",
       "World Bank                        1349\n",
       "Kkkt                              1287\n",
       "World Vision                      1246\n",
       "Unicef                            1057\n",
       "Tasaf                              877\n",
       "District Council                   843\n",
       "Dhv                                829\n",
       "Private Individual                 826\n",
       "Dwsp                               811\n",
       "0                                  777\n",
       "Norad                              765\n",
       "Germany Republi                    610\n",
       "Tcrs                               602\n",
       "Ministry Of Water                  590\n",
       "Water                              583\n",
       "Dwe                                484\n",
       "Netherlands                        470\n",
       "Hifab                              450\n",
       "Adb                                448\n",
       "Lga                                442\n",
       "Amref                              425\n",
       "Fini Water                         393\n",
       "Oxfam                              359\n",
       "Wateraid                           333\n",
       "Rc Church                          321\n",
       "                                  ... \n",
       "Mitema                               1\n",
       "Tasaf/tlc                            1\n",
       "Robert Kampala                       1\n",
       "Japan  Food Aid Counter Part         1\n",
       "Dqnida                               1\n",
       "Grazie Grouppo Padre Fiorentin       1\n",
       "Louise Elucas Sala                   1\n",
       "Mzee Lesilali                        1\n",
       "Said Hashim                          1\n",
       "Suasa                                1\n",
       "Ministry Of Agricultura              1\n",
       "Village Contributio                  1\n",
       "Village Water Commission             1\n",
       "Afroz Ismail                         1\n",
       "Fpct Mulala                          1\n",
       "Lake Tanganyika Basin                1\n",
       "Cpps Mission                         1\n",
       "Ndorobo Tours                        1\n",
       "Dwe/rudep                            1\n",
       "Yaole                                1\n",
       "Simango Kihengu                      1\n",
       "Totaland Care                        1\n",
       "Old Nyika Company                    1\n",
       "If                                   1\n",
       "Farm-africa                          1\n",
       "Hhesawa                              1\n",
       "San Pellegrino                       1\n",
       "Maerere                              1\n",
       "Plan Tanzania                        1\n",
       "Owner Pingo C                        1\n",
       "dtype: int64"
      ]
     },
     "execution_count": 17,
     "metadata": {},
     "output_type": "execute_result"
    }
   ],
   "source": [
    "waterjoined.funder.value_counts()"
   ]
  },
  {
   "cell_type": "code",
   "execution_count": 18,
   "metadata": {
    "collapsed": false
   },
   "outputs": [
    {
     "data": {
      "text/plain": [
       "communal standpipe             28522\n",
       "hand pump                      17488\n",
       "other                           6380\n",
       "communal standpipe multiple     6103\n",
       "improved spring                  784\n",
       "cattle trough                    116\n",
       "dam                                7\n",
       "dtype: int64"
      ]
     },
     "execution_count": 18,
     "metadata": {},
     "output_type": "execute_result"
    }
   ],
   "source": [
    "waterjoined.columns\n",
    "waterjoined.waterpoint_type.value_counts()"
   ]
  },
  {
   "cell_type": "code",
   "execution_count": 19,
   "metadata": {
    "collapsed": false
   },
   "outputs": [
    {
     "data": {
      "text/plain": [
       "0.00         41639\n",
       "500.00        3102\n",
       "50.00         2472\n",
       "1000.00       1488\n",
       "20.00         1463\n",
       "200.00        1220\n",
       "100.00         816\n",
       "10.00          806\n",
       "30.00          743\n",
       "2000.00        704\n",
       "250.00         569\n",
       "300.00         557\n",
       "5000.00        450\n",
       "5.00           376\n",
       "25.00          356\n",
       "3000.00        334\n",
       "1200.00        267\n",
       "1500.00        197\n",
       "6.00           190\n",
       "600.00         176\n",
       "4000.00        156\n",
       "2400.00        145\n",
       "2500.00        139\n",
       "6000.00        125\n",
       "7.00            69\n",
       "8000.00         61\n",
       "750.00          59\n",
       "40.00           59\n",
       "10000.00        57\n",
       "12000.00        51\n",
       "             ...  \n",
       "11000.00         2\n",
       "520.00           2\n",
       "590.00           2\n",
       "16000.00         2\n",
       "800.00           2\n",
       "4500.00          2\n",
       "26000.00         2\n",
       "13000.00         2\n",
       "9.00             1\n",
       "120000.00        1\n",
       "12.00            1\n",
       "5400.00          1\n",
       "8500.00          1\n",
       "350000.00        1\n",
       "170000.00        1\n",
       "6300.00          1\n",
       "138000.00        1\n",
       "38000.00         1\n",
       "70000.00         1\n",
       "26.00            1\n",
       "306.00           1\n",
       "250000.00        1\n",
       "0.25             1\n",
       "200000.00        1\n",
       "53.00            1\n",
       "59.00            1\n",
       "60000.00         1\n",
       "900.00           1\n",
       "220.00           1\n",
       "1400.00          1\n",
       "dtype: int64"
      ]
     },
     "execution_count": 19,
     "metadata": {},
     "output_type": "execute_result"
    }
   ],
   "source": [
    "waterjoined.amount_tsh.value_counts()"
   ]
  },
  {
   "cell_type": "code",
   "execution_count": 20,
   "metadata": {
    "collapsed": false
   },
   "outputs": [
    {
     "data": {
      "text/plain": [
       "soft                  50818\n",
       "salty                  4856\n",
       "unknown                1876\n",
       "milky                   804\n",
       "coloured                490\n",
       "salty abandoned         339\n",
       "fluoride                200\n",
       "fluoride abandoned       17\n",
       "dtype: int64"
      ]
     },
     "execution_count": 20,
     "metadata": {},
     "output_type": "execute_result"
    }
   ],
   "source": [
    "waterjoined.water_quality.value_counts()"
   ]
  },
  {
   "cell_type": "code",
   "execution_count": 21,
   "metadata": {
    "collapsed": false
   },
   "outputs": [
    {
     "data": {
      "text/plain": [
       "good        50818\n",
       "salty        5195\n",
       "unknown      1876\n",
       "milky         804\n",
       "colored       490\n",
       "fluoride      217\n",
       "dtype: int64"
      ]
     },
     "execution_count": 21,
     "metadata": {},
     "output_type": "execute_result"
    }
   ],
   "source": [
    "waterjoined.quality_group.value_counts()"
   ]
  },
  {
   "cell_type": "code",
   "execution_count": 59,
   "metadata": {
    "collapsed": false
   },
   "outputs": [
    {
     "data": {
      "text/plain": [
       "never pay                25348\n",
       "pay per bucket            8985\n",
       "pay monthly               8300\n",
       "unknown                   8157\n",
       "pay when scheme fails     3914\n",
       "pay annually              3642\n",
       "other                     1054\n",
       "dtype: int64"
      ]
     },
     "execution_count": 59,
     "metadata": {},
     "output_type": "execute_result"
    }
   ],
   "source": [
    "waterjoined.payment.value_counts()"
   ]
  },
  {
   "cell_type": "code",
   "execution_count": 61,
   "metadata": {
    "collapsed": false
   },
   "outputs": [
    {
     "data": {
      "text/plain": [
       "never pay     25348\n",
       "per bucket     8985\n",
       "monthly        8300\n",
       "unknown        8157\n",
       "on failure     3914\n",
       "annually       3642\n",
       "other          1054\n",
       "dtype: int64"
      ]
     },
     "execution_count": 61,
     "metadata": {},
     "output_type": "execute_result"
    }
   ],
   "source": [
    "waterjoined.payment_type.value_counts()"
   ]
  },
  {
   "cell_type": "code",
   "execution_count": 62,
   "metadata": {
    "collapsed": false
   },
   "outputs": [
    {
     "data": {
      "text/plain": [
       "VWC                 36793\n",
       "WUG                  5206\n",
       "NA                   3877\n",
       "Water authority      3153\n",
       "WUA                  2883\n",
       "Water Board          2748\n",
       "Parastatal           1680\n",
       "Private operator     1063\n",
       "Company              1061\n",
       "Other                 766\n",
       "SWC                    97\n",
       "Trust                  72\n",
       "None                    1\n",
       "dtype: int64"
      ]
     },
     "execution_count": 62,
     "metadata": {},
     "output_type": "execute_result"
    }
   ],
   "source": [
    "waterjoined.scheme_management.value_counts()"
   ]
  },
  {
   "cell_type": "code",
   "execution_count": 63,
   "metadata": {
    "collapsed": false
   },
   "outputs": [
    {
     "data": {
      "text/plain": [
       "NA                                                28166\n",
       "K                                                   682\n",
       "None                                                644\n",
       "Borehole                                            546\n",
       "Chalinze wate                                       405\n",
       "M                                                   400\n",
       "DANIDA                                              379\n",
       "Government                                          320\n",
       "Ngana water supplied scheme                         270\n",
       "wanging'ombe water supply s                         261\n",
       "wanging'ombe supply scheme                          234\n",
       "Bagamoyo wate                                       229\n",
       "I                                                   229\n",
       "Uroki-Bomang'ombe water sup                         209\n",
       "N                                                   204\n",
       "Kirua kahe gravity water supply trust               193\n",
       "Machumba estate pipe line                           185\n",
       "Makwale water supplied sche                         166\n",
       "Kijiji                                              161\n",
       "S                                                   154\n",
       "mtwango water supply scheme                         152\n",
       "Handeni Trunk Main(H                                152\n",
       "Losaa-Kia water supply                              152\n",
       "Mkongoro Two                                        147\n",
       "Roman                                               139\n",
       "Mkongoro One                                        128\n",
       "Maambreni gravity water supply                      125\n",
       "Lyamungo umbwe water supply                         120\n",
       "Kirua kahe pumping water trust                      113\n",
       "Ki                                                  107\n",
       "                                                  ...  \n",
       "Nameqhuwadiba                                         1\n",
       "Miangalua water supply                                1\n",
       "Tove - Mtwango                                        1\n",
       "Huma                                                  1\n",
       "Nyamtukuza Point sources water supplier supply        1\n",
       "Kayugi spring source                                  1\n",
       "Mradi wa maji wa isevya                               1\n",
       "Pipe scheme Source                                    1\n",
       "Kasuguti irrigation scheme                            1\n",
       "Mkuini paralle line                                   1\n",
       "Kirongwe water supply                                 1\n",
       "Kitangwi Water Supply                                 1\n",
       "Mnazi moja                                            1\n",
       "Bujuruga Spring b                                     1\n",
       "Toronto-estate water                                  1\n",
       "Merali line                                           1\n",
       "Kirwa  water suply                                    1\n",
       "MRDP                                                  1\n",
       "Mtir                                                  1\n",
       "Mkola Water Supply                                    1\n",
       "Rural Drinking Water Drinking Supply - Japan          1\n",
       "Thobias Main Branch line                              1\n",
       "BL Orkugu                                             1\n",
       "JongoJ                                                1\n",
       "CSPD PROJECT                                          1\n",
       "Moroga                                                1\n",
       "Burieni water supply                                  1\n",
       "Kashishi water supply                                 1\n",
       "Jongom                                                1\n",
       "MSRRWS                                                1\n",
       "dtype: int64"
      ]
     },
     "execution_count": 63,
     "metadata": {},
     "output_type": "execute_result"
    }
   ],
   "source": [
    "waterjoined.scheme_name.value_counts()"
   ]
  },
  {
   "cell_type": "code",
   "execution_count": 79,
   "metadata": {
    "collapsed": false
   },
   "outputs": [
    {
     "data": {
      "text/plain": [
       "0       21381\n",
       "1        7025\n",
       "200      1940\n",
       "150      1892\n",
       "250      1681\n",
       "300      1476\n",
       "100      1146\n",
       "50       1139\n",
       "500      1009\n",
       "350       986\n",
       "120       916\n",
       "400       775\n",
       "60        706\n",
       "30        626\n",
       "40        552\n",
       "80        533\n",
       "450       499\n",
       "20        462\n",
       "600       438\n",
       "230       388\n",
       "75        289\n",
       "1000      278\n",
       "800       269\n",
       "90        265\n",
       "130       264\n",
       "25        255\n",
       "320       249\n",
       "35        245\n",
       "360       222\n",
       "140       215\n",
       "        ...  \n",
       "8848        1\n",
       "628         1\n",
       "4520        1\n",
       "468         1\n",
       "693         1\n",
       "725         1\n",
       "789         1\n",
       "821         1\n",
       "5300        1\n",
       "3127        1\n",
       "2345        1\n",
       "3031        1\n",
       "886         1\n",
       "392         1\n",
       "424         1\n",
       "2807        1\n",
       "726         1\n",
       "694         1\n",
       "2569        1\n",
       "4788        1\n",
       "662         1\n",
       "4660        1\n",
       "406         1\n",
       "1032        1\n",
       "1160        1\n",
       "3241        1\n",
       "1960        1\n",
       "1685        1\n",
       "2248        1\n",
       "1439        1\n",
       "dtype: int64"
      ]
     },
     "execution_count": 79,
     "metadata": {},
     "output_type": "execute_result"
    }
   ],
   "source": [
    "waterjoined.gps_height.value_counts()\n",
    "waterjoined.construction_year.value_counts()\n",
    "waterjoined.date_recorded.value_counts()\n",
    "waterjoined.population.value_counts()"
   ]
  },
  {
   "cell_type": "code",
   "execution_count": 23,
   "metadata": {
    "collapsed": false
   },
   "outputs": [
    {
     "data": {
      "text/plain": [
       "0       21381\n",
       "1        7025\n",
       "200      1940\n",
       "150      1892\n",
       "250      1681\n",
       "300      1476\n",
       "100      1146\n",
       "50       1139\n",
       "500      1009\n",
       "350       986\n",
       "120       916\n",
       "400       775\n",
       "60        706\n",
       "30        626\n",
       "40        552\n",
       "80        533\n",
       "450       499\n",
       "20        462\n",
       "600       438\n",
       "230       388\n",
       "75        289\n",
       "1000      278\n",
       "800       269\n",
       "90        265\n",
       "130       264\n",
       "25        255\n",
       "320       249\n",
       "35        245\n",
       "360       222\n",
       "140       215\n",
       "        ...  \n",
       "8848        1\n",
       "628         1\n",
       "4520        1\n",
       "468         1\n",
       "693         1\n",
       "725         1\n",
       "789         1\n",
       "821         1\n",
       "5300        1\n",
       "3127        1\n",
       "2345        1\n",
       "3031        1\n",
       "886         1\n",
       "392         1\n",
       "424         1\n",
       "2807        1\n",
       "726         1\n",
       "694         1\n",
       "2569        1\n",
       "4788        1\n",
       "662         1\n",
       "4660        1\n",
       "406         1\n",
       "1032        1\n",
       "1160        1\n",
       "3241        1\n",
       "1960        1\n",
       "1685        1\n",
       "2248        1\n",
       "1439        1\n",
       "dtype: int64"
      ]
     },
     "execution_count": 23,
     "metadata": {},
     "output_type": "execute_result"
    }
   ],
   "source": [
    "waterjoined.population.value_counts()"
   ]
  },
  {
   "cell_type": "code",
   "execution_count": 25,
   "metadata": {
    "collapsed": false
   },
   "outputs": [
    {
     "data": {
      "text/plain": [
       "vwc                 40507\n",
       "wug                  6515\n",
       "water board          2933\n",
       "wua                  2535\n",
       "private operator     1971\n",
       "parastatal           1768\n",
       "water authority       904\n",
       "other                 844\n",
       "company               685\n",
       "unknown               561\n",
       "other - school         99\n",
       "trust                  78\n",
       "dtype: int64"
      ]
     },
     "execution_count": 25,
     "metadata": {},
     "output_type": "execute_result"
    }
   ],
   "source": [
    "waterjoined.management.value_counts()"
   ]
  },
  {
   "cell_type": "code",
   "execution_count": 27,
   "metadata": {
    "collapsed": false
   },
   "outputs": [
    {
     "data": {
      "text/plain": [
       "user-group    52490\n",
       "commercial     3638\n",
       "parastatal     1768\n",
       "other           943\n",
       "unknown         561\n",
       "dtype: int64"
      ]
     },
     "execution_count": 27,
     "metadata": {},
     "output_type": "execute_result"
    }
   ],
   "source": [
    "waterjoined.management_group.value_counts()"
   ]
  },
  {
   "cell_type": "code",
   "execution_count": 29,
   "metadata": {
    "collapsed": false
   },
   "outputs": [
    {
     "data": {
      "text/plain": [
       "Iringa           5294\n",
       "Shinyanga        4982\n",
       "Mbeya            4639\n",
       "Kilimanjaro      4379\n",
       "Morogoro         4006\n",
       "Arusha           3350\n",
       "Kagera           3316\n",
       "Mwanza           3102\n",
       "Kigoma           2816\n",
       "Ruvuma           2640\n",
       "Pwani            2635\n",
       "Tanga            2547\n",
       "Dodoma           2201\n",
       "Singida          2093\n",
       "Mara             1969\n",
       "Tabora           1959\n",
       "Rukwa            1808\n",
       "Mtwara           1730\n",
       "Manyara          1583\n",
       "Lindi            1546\n",
       "Dar es Salaam     805\n",
       "dtype: int64"
      ]
     },
     "execution_count": 29,
     "metadata": {},
     "output_type": "execute_result"
    }
   ],
   "source": [
    "waterjoined.region.value_counts()"
   ]
  },
  {
   "cell_type": "code",
   "execution_count": 31,
   "metadata": {
    "collapsed": false
   },
   "outputs": [
    {
     "data": {
      "text/plain": [
       "1     12203\n",
       "2     11173\n",
       "3      9998\n",
       "4      8999\n",
       "5      4356\n",
       "6      4074\n",
       "7      3343\n",
       "8      1043\n",
       "30      995\n",
       "33      874\n",
       "53      745\n",
       "43      505\n",
       "13      391\n",
       "23      293\n",
       "63      195\n",
       "62      109\n",
       "60       63\n",
       "0        23\n",
       "80       12\n",
       "67        6\n",
       "dtype: int64"
      ]
     },
     "execution_count": 31,
     "metadata": {},
     "output_type": "execute_result"
    }
   ],
   "source": [
    "waterjoined.district_code.value_counts()"
   ]
  },
  {
   "cell_type": "code",
   "execution_count": 34,
   "metadata": {
    "collapsed": false
   },
   "outputs": [
    {
     "data": {
      "text/plain": [
       "True     51011\n",
       "False     5055\n",
       "NA        3334\n",
       "dtype: int64"
      ]
     },
     "execution_count": 34,
     "metadata": {},
     "output_type": "execute_result"
    }
   ],
   "source": [
    "waterjoined.public_meeting.value_counts()"
   ]
  },
  {
   "cell_type": "code",
   "execution_count": null,
   "metadata": {
    "collapsed": true
   },
   "outputs": [],
   "source": []
  },
  {
   "cell_type": "code",
   "execution_count": 42,
   "metadata": {
    "collapsed": false
   },
   "outputs": [
    {
     "data": {
      "text/plain": [
       "<matplotlib.axes._subplots.AxesSubplot at 0x108880c10>"
      ]
     },
     "execution_count": 42,
     "metadata": {},
     "output_type": "execute_result"
    }
   ],
   "source": [
    "waterjoined.management.value_counts().plot(kind='pie')"
   ]
  }
 ],
 "metadata": {
  "kernelspec": {
   "display_name": "Python 2",
   "language": "python",
   "name": "python2"
  },
  "language_info": {
   "codemirror_mode": {
    "name": "ipython",
    "version": 2
   },
   "file_extension": ".py",
   "mimetype": "text/x-python",
   "name": "python",
   "nbconvert_exporter": "python",
   "pygments_lexer": "ipython2",
   "version": "2.7.10"
  }
 },
 "nbformat": 4,
 "nbformat_minor": 0
}
